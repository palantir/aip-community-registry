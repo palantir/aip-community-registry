{
 "cells": [
  {
   "cell_type": "code",
   "execution_count": null,
   "metadata": {
    "vscode": {
     "languageId": "plaintext"
    }
   },
   "outputs": [],
   "source": [
    "import os\n",
    "from my_todo_application_sdk import FoundryClient\n",
    "from foundry_sdk_runtime.auth import UserTokenAuth\n",
    "\n",
    "# TODO - add your enrollement url below\n",
    "auth = UserTokenAuth(hostname=\"https://<your_enrollement>.palantirfoundry.com\", token=os.environ[\"FOUNDRY_TOKEN\"])\n",
    "\n",
    "# TODO - add your enrollement url below\n",
    "client = FoundryClient(auth=auth, hostname=\"https://<your_enrollement>.palantirfoundry.com\")\n",
    "\n",
    "osdkTodoTaskObject = client.ontology.objects.osdkTodoTask\n",
    "print(osdkTodoTaskObject.take(1))\n",
    "\n",
    "primaryKey = 'TODO - get a primary key from the installed object'\n",
    "result = client.ontology.objects.osdkTodoTask.get(primaryKey)\n",
    "result.description"
   ]
  }
 ],
 "metadata": {
  "language_info": {
   "name": "python"
  }
 },
 "nbformat": 4,
 "nbformat_minor": 2
}
